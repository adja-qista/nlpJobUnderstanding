{
 "cells": [
  {
   "cell_type": "code",
   "execution_count": 1,
   "id": "1a92ace6-9831-44ac-808b-fbfc37ef7f03",
   "metadata": {},
   "outputs": [],
   "source": [
    "from sklearn.datasets import make_classification\n",
    "from sklearn import tree\n",
    "from sklearn.model_selection import train_test_split"
   ]
  },
  {
   "cell_type": "code",
   "execution_count": 2,
   "id": "b4a24bf6-f240-4a54-b1fd-810b6ef1f38a",
   "metadata": {},
   "outputs": [],
   "source": [
    "X, t = make_classification(100, 5, n_classes=2, shuffle=True, random_state=10)\n",
    "X_train, X_test, t_train, t_test = train_test_split(X, t, test_size=0.3, shuffle=True, random_state=1)"
   ]
  },
  {
   "cell_type": "code",
   "execution_count": 5,
   "id": "e203bc14-223e-4cf0-84a6-e17315ca57b5",
   "metadata": {},
   "outputs": [
    {
     "data": {
      "text/plain": [
       "array([0, 0, 0, 0, 1, 1, 1, 1, 1, 1, 1, 0, 1, 0, 1, 1, 1, 0, 0, 0, 0, 1,\n",
       "       0, 1, 0, 1, 0, 1, 0, 1, 0, 0, 0, 0, 0, 0, 0, 0, 0, 0, 0, 1, 0, 1,\n",
       "       1, 0, 1, 0, 1, 1, 1, 0, 1, 0, 0, 1, 0, 1, 1, 1, 1, 1, 0, 1, 1, 0,\n",
       "       0, 1, 0, 0, 1, 0, 1, 1, 1, 0, 1, 1, 1, 0, 0, 0, 1, 0, 1, 1, 0, 1,\n",
       "       1, 0, 0, 0, 1, 0, 1, 1, 1, 0, 1, 0])"
      ]
     },
     "execution_count": 5,
     "metadata": {},
     "output_type": "execute_result"
    }
   ],
   "source": [
    "t"
   ]
  },
  {
   "cell_type": "code",
   "execution_count": 6,
   "id": "26f81299-4607-4599-9b72-feb389e45c2e",
   "metadata": {},
   "outputs": [],
   "source": [
    "model = tree.DecisionTreeClassifier()\n",
    "model = model.fit(X_train, t_train)"
   ]
  },
  {
   "cell_type": "code",
   "execution_count": 7,
   "id": "f847d5d2-85b2-4c8b-89c9-78ad339db8c9",
   "metadata": {},
   "outputs": [
    {
     "name": "stdout",
     "output_type": "stream",
     "text": [
      "[0 1 0 1 0 0 0 0 0 0 1 0 0 1 0 0 0 0 1 1 0 1 0 0 0 0 1 1 0 0]\n"
     ]
    },
    {
     "data": {
      "text/plain": [
       "[Text(200.88000000000002, 199.32, 'X[4] <= 0.229\\ngini = 0.493\\nsamples = 70\\nvalue = [31, 39]'),\n",
       " Text(133.92000000000002, 163.07999999999998, 'X[2] <= -0.746\\ngini = 0.202\\nsamples = 35\\nvalue = [31, 4]'),\n",
       " Text(66.96000000000001, 126.83999999999999, 'gini = 0.0\\nsamples = 2\\nvalue = [0, 2]'),\n",
       " Text(200.88000000000002, 126.83999999999999, 'X[3] <= 1.441\\ngini = 0.114\\nsamples = 33\\nvalue = [31, 2]'),\n",
       " Text(133.92000000000002, 90.6, 'X[4] <= -0.6\\ngini = 0.061\\nsamples = 32\\nvalue = [31, 1]'),\n",
       " Text(66.96000000000001, 54.359999999999985, 'gini = 0.0\\nsamples = 29\\nvalue = [29, 0]'),\n",
       " Text(200.88000000000002, 54.359999999999985, 'X[4] <= -0.473\\ngini = 0.444\\nsamples = 3\\nvalue = [2, 1]'),\n",
       " Text(133.92000000000002, 18.119999999999976, 'gini = 0.0\\nsamples = 1\\nvalue = [0, 1]'),\n",
       " Text(267.84000000000003, 18.119999999999976, 'gini = 0.0\\nsamples = 2\\nvalue = [2, 0]'),\n",
       " Text(267.84000000000003, 90.6, 'gini = 0.0\\nsamples = 1\\nvalue = [0, 1]'),\n",
       " Text(267.84000000000003, 163.07999999999998, 'gini = 0.0\\nsamples = 35\\nvalue = [0, 35]')]"
      ]
     },
     "execution_count": 7,
     "metadata": {},
     "output_type": "execute_result"
    },
    {
     "data": {
      "image/png": "[encoded data removed]",
      "text/plain": [
       "<Figure size 432x288 with 1 Axes>"
      ]
     },
     "metadata": {
      "needs_background": "light"
     },
     "output_type": "display_data"
    }
   ],
   "source": [
    "predicted_value = model.predict(X_test)\n",
    "print(predicted_value)\n",
    "\n",
    "tree.plot_tree(model)"
   ]
  },
  {
   "cell_type": "code",
   "execution_count": 8,
   "id": "a3ffe602-868e-489e-b596-7722d8b196b0",
   "metadata": {},
   "outputs": [
    {
     "name": "stdout",
     "output_type": "stream",
     "text": [
      "31\n",
      "39\n",
      "Gini : 0.4934693877551021\n",
      "Accuracy is:  0.8666666666666667\n"
     ]
    }
   ],
   "source": [
    "zeroes = 0\n",
    "ones = 0\n",
    "for i in range(0, len(t_train)):\n",
    "    if t_train[i] == 0:\n",
    "        zeroes += 1\n",
    "    else:\n",
    "        ones += 1\n",
    "\n",
    "print(zeroes)\n",
    "print(ones)\n",
    "\n",
    "val = 1 - ((zeroes/70)*(zeroes/70) + (ones/70)*(ones/70))\n",
    "print(\"Gini :\", val)\n",
    "\n",
    "match = 0\n",
    "UnMatch = 0\n",
    "\n",
    "for i in range(30):\n",
    "    if predicted_value[i] == t_test[i]:\n",
    "        match += 1\n",
    "    else:\n",
    "        UnMatch += 1\n",
    "\n",
    "accuracy = match/30\n",
    "print(\"Accuracy is: \", accuracy)\n"
   ]
  },
  {
   "cell_type": "code",
   "execution_count": null,
   "id": "b5009ea5-5401-4e09-89ff-f9cc95a42490",
   "metadata": {},
   "outputs": [],
   "source": []
  }
 ],
 "metadata": {
  "kernelspec": {
   "display_name": "Python 3",
   "language": "python",
   "name": "python3"
  },
  "language_info": {
   "codemirror_mode": {
    "name": "ipython",
    "version": 3
   },
   "file_extension": ".py",
   "mimetype": "text/x-python",
   "name": "python",
   "nbconvert_exporter": "python",
   "pygments_lexer": "ipython3",
   "version": "3.8.8"
  }
 },
 "nbformat": 4,
 "nbformat_minor": 5
}
